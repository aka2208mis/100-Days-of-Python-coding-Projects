{
  "nbformat": 4,
  "nbformat_minor": 0,
  "metadata": {
    "colab": {
      "provenance": []
    },
    "kernelspec": {
      "name": "python3",
      "display_name": "Python 3"
    },
    "language_info": {
      "name": "python"
    }
  },
  "cells": [
    {
      "cell_type": "code",
      "execution_count": 3,
      "metadata": {
        "colab": {
          "base_uri": "https://localhost:8080/"
        },
        "id": "J4AqZ0ogkJDz",
        "outputId": "7fd06ffe-d7b5-44a2-9c1e-3cba39de4df9"
      },
      "outputs": [
        {
          "output_type": "stream",
          "name": "stdout",
          "text": [
            "Welcome to the Tip Calculator!\n",
            "Enter the total bill amount: $1000\n",
            "Enter the tip percentage (e.g., 10, 12, 15): 6\n",
            "How many people to split the bill? 7\n",
            "\n",
            "Total bill (including tip): $1060.00\n",
            "Each person should pay: $151.43\n"
          ]
        }
      ],
      "source": [
        "def tip_calculator():\n",
        "    print(\"Welcome to the Tip Calculator!\")\n",
        "\n",
        "    # Input for bill amount\n",
        "    bill = float(input(\"Enter the total bill amount: $\"))\n",
        "\n",
        "    # Input for tip percentage\n",
        "    tip_percentage = int(input(\"Enter the tip percentage (e.g., 10, 12, 15): \"))\n",
        "\n",
        "    # Input for number of people\n",
        "    num_people = int(input(\"How many people to split the bill? \"))\n",
        "\n",
        "    # Calculate the total tip and the total bill\n",
        "    tip_amount = (tip_percentage / 100) * bill\n",
        "    total_bill = bill + tip_amount\n",
        "\n",
        "    # Calculate how much each person has to pay\n",
        "    amount_per_person = total_bill / num_people\n",
        "\n",
        "    # Display the results\n",
        "    print(f\"\\nTotal bill (including tip): ${total_bill:.2f}\")\n",
        "    print(f\"Each person should pay: ${amount_per_person:.2f}\")\n",
        "\n",
        "# Run the tip calculator\n",
        "tip_calculator()\n"
      ]
    }
  ]
}