{
  "nbformat": 4,
  "nbformat_minor": 0,
  "metadata": {
    "colab": {
      "provenance": []
    },
    "kernelspec": {
      "name": "python3",
      "display_name": "Python 3"
    },
    "language_info": {
      "name": "python"
    }
  },
  "cells": [
    {
      "cell_type": "code",
      "execution_count": 5,
      "metadata": {
        "colab": {
          "base_uri": "https://localhost:8080/"
        },
        "id": "J4AqZ0ogkJDz",
        "outputId": "19942b69-32a2-4af8-f954-4d9eca15e065"
      },
      "outputs": [
        {
          "output_type": "stream",
          "name": "stdout",
          "text": [
            "Welcome to Rock, Paper, Scissors!\n",
            "Enter your choice (rock, paper, scissors): rock\n",
            "Computer chose: rock\n",
            "It's a tie!\n"
          ]
        }
      ],
      "source": [
        "import random\n",
        "\n",
        "def rock_paper_scissors():\n",
        "    # Welcome message\n",
        "    print(\"Welcome to Rock, Paper, Scissors!\")\n",
        "\n",
        "    # Options for the game\n",
        "    choices = ['rock', 'paper', 'scissors']\n",
        "\n",
        "    # Get user choice\n",
        "    user_choice = input(\"Enter your choice (rock, paper, scissors): \").lower()\n",
        "\n",
        "    # Check if the user input is valid\n",
        "    if user_choice not in choices:\n",
        "        print(\"Invalid choice, please try again!\")\n",
        "        return\n",
        "\n",
        "    # Get computer choice\n",
        "    computer_choice = random.choice(choices)\n",
        "    print(f\"Computer chose: {computer_choice}\")\n",
        "\n",
        "    # Determine the winner\n",
        "    if user_choice == computer_choice:\n",
        "        print(\"It's a tie!\")\n",
        "    elif (user_choice == 'rock' and computer_choice == 'scissors') or \\\n",
        "         (user_choice == 'paper' and computer_choice == 'rock') or \\\n",
        "         (user_choice == 'scissors' and computer_choice == 'paper'):\n",
        "        print(\"You win!\")\n",
        "    else:\n",
        "        print(\"You lose!\")\n",
        "\n",
        "# Run the game\n",
        "rock_paper_scissors()\n"
      ]
    }
  ]
}