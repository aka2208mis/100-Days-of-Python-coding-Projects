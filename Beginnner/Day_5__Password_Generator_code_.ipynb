{
  "nbformat": 4,
  "nbformat_minor": 0,
  "metadata": {
    "colab": {
      "provenance": []
    },
    "kernelspec": {
      "name": "python3",
      "display_name": "Python 3"
    },
    "language_info": {
      "name": "python"
    }
  },
  "cells": [
    {
      "cell_type": "code",
      "source": [
        "#Password Generator Project\n",
        "import random\n",
        "letters = ['a', 'b', 'c', 'd', 'e', 'f', 'g', 'h', 'i', 'j', 'k', 'l', 'm', 'n', 'o', 'p', 'q', 'r', 's', 't', 'u', 'v', 'w', 'x', 'y', 'z', 'A', 'B', 'C', 'D', 'E', 'F', 'G', 'H', 'I', 'J', 'K', 'L', 'M', 'N', 'O', 'P', 'Q', 'R', 'S', 'T', 'U', 'V', 'W', 'X', 'Y', 'Z']\n",
        "numbers = ['0', '1', '2', '3', '4', '5', '6', '7', '8', '9']\n",
        "symbols = ['!', '#', '$', '%', '&', '(', ')', '*', '+']\n",
        "\n",
        "print(\"Welcome to the PyPassword Generator!\")\n",
        "nr_letters = int(input(\"How many letters would you like in your password?\\n\"))\n",
        "nr_symbols = int(input(f\"How many symbols would you like?\\n\"))\n",
        "nr_numbers = int(input(f\"How many numbers would you like?\\n\"))\n",
        "\n",
        "#Eazy Level\n",
        "# password = \"\"\n",
        "# for char in range(1, nr_letters + 1):\n",
        "#   password += random.choice(letters)\n",
        "\n",
        "# for char in range(1, nr_symbols + 1):\n",
        "#   password += random.choice(symbols)\n",
        "\n",
        "# for char in range(1, nr_numbers + 1):\n",
        "#   password += random.choice(numbers)\n",
        "\n",
        "# print(password)\n",
        "\n",
        "#Hard Level\n",
        "password_list = []\n",
        "\n",
        "for char in range(1, nr_letters + 1):\n",
        "  password_list.append(random.choice(letters))\n",
        "for char in range(1, nr_symbols + 1):\n",
        "  password_list += random.choice(symbols)\n",
        "\n",
        "for char in range(1, nr_numbers + 1):\n",
        "  password_list += random.choice(numbers)\n",
        "\n",
        "print(password_list)\n",
        "random.shuffle(password_list)\n",
        "print(password_list)\n",
        "\n",
        "password = \"\"\n",
        "for char in password_list:\n",
        "  password += char\n",
        "\n",
        "print(f\"Your password is: {password}\")"
      ],
      "metadata": {
        "colab": {
          "base_uri": "https://localhost:8080/"
        },
        "id": "AP1Rn45ynKpC",
        "outputId": "5d24f66d-79ff-4eb5-eb35-798461a6f62f"
      },
      "execution_count": 6,
      "outputs": [
        {
          "output_type": "stream",
          "name": "stdout",
          "text": [
            "Welcome to the PyPassword Generator!\n",
            "How many letters would you like in your password?\n",
            "7\n",
            "How many symbols would you like?\n",
            "5\n",
            "How many numbers would you like?\n",
            "9\n",
            "['M', 'e', 'h', 'Y', 'C', 'B', 'y', ')', ')', ')', '*', '%', '7', '9', '2', '8', '2', '3', '3', '5', '3']\n",
            "['*', 'h', 'M', 'C', 'B', '5', 'y', '8', '2', '3', 'Y', '3', 'e', '2', '7', '9', ')', '3', '%', ')', ')']\n",
            "Your password is: *hMCB5y823Y3e279)3%))\n"
          ]
        }
      ]
    }
  ]
}