{
  "nbformat": 4,
  "nbformat_minor": 0,
  "metadata": {
    "colab": {
      "provenance": []
    },
    "kernelspec": {
      "name": "python3",
      "display_name": "Python 3"
    },
    "language_info": {
      "name": "python"
    }
  },
  "cells": [
    {
      "cell_type": "code",
      "execution_count": 2,
      "metadata": {
        "colab": {
          "base_uri": "https://localhost:8080/"
        },
        "id": "J4AqZ0ogkJDz",
        "outputId": "5b7c4097-6de3-4f49-93a1-c503a2efb7a7"
      },
      "outputs": [
        {
          "output_type": "stream",
          "name": "stdout",
          "text": [
            "Welcome to the band name generator\n",
            "Which city you grew up in ?Indore\n",
            "What is name of your pet ?Dog\n",
            "Your band name could be Indore Dog\n"
          ]
        }
      ],
      "source": [
        "print(\"Welcome to the band name generator\")\n",
        "city = input(\"Which city you grew up in ?\")\n",
        "pet = input(\"What is name of your pet ?\")\n",
        "print(\"Your band name could be\"+ \" \"+city+ \" \"+pet)"
      ]
    }
  ]
}